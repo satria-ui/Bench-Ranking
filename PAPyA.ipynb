{
 "cells": [
  {
   "cell_type": "code",
   "execution_count": 56,
   "metadata": {},
   "outputs": [],
   "source": [
    "import yaml\n",
    "import itertools\n",
    "import plotly.express as px\n",
    "import pandas as pd\n",
    "from itertools import islice\n",
    "import matplotlib.pyplot as plt\n",
    "import scipy.stats as ss\n",
    "import numpy as np\n",
    "\n",
    "class Configuration():\n",
    "    configPath = 'settings.yaml'\n",
    "    \n",
    "    def __init__(self, dimension, dataset):\n",
    "        with open(self.configPath, \"r\") as f:\n",
    "            self.data = yaml.safe_load(f)\n",
    "        self.d = self.data.get('dimensions')\n",
    "        self.options = list(self.d.values())\n",
    "        self.query = self.data.get('query')\n",
    "        self.sd = dimension\n",
    "        self.size = dataset\n",
    "    \n",
    "    def join_tuple_string(strings_tuple) -> str:\n",
    "        return '.'.join(strings_tuple)\n",
    "        \n",
    "    def file_reader(self):\n",
    "        tuple = list(itertools.product(*self.options))\n",
    "        joined_string = map(Configuration.join_tuple_string, tuple)\n",
    "        joined_string = list(joined_string)\n",
    "        \n",
    "        avg = []\n",
    "        for i in joined_string:\n",
    "            df = pd.read_csv(f'./log/{self.size}/{i}.txt', sep = ',', header = None)\n",
    "            df = df.fillna(0)\n",
    "            mean = df.mean(axis=0)\n",
    "            avg.append(mean)\n",
    "            \n",
    "        df = pd.DataFrame(avg, index = joined_string)\n",
    "        df = df.set_axis([\"Q\"+str(i+1) for i in range(self.query)], axis = 1)\n",
    "        df = df.fillna(5000)\n",
    "        \n",
    "        if self.sd != list(self.d.keys())[-1]:\n",
    "            li = []\n",
    "            config = list(df.index)\n",
    "            d_list = list(self.d)\n",
    "            key_slice = list(islice(d_list, d_list.index(self.sd)+1, None))\n",
    "            number_of_options = [self.d[x]for x in key_slice]\n",
    "            total_length = len(list(itertools.product(*number_of_options)))\n",
    "            \n",
    "            for counter in range(total_length):\n",
    "                for x in range (int(len(config)/total_length)): \n",
    "                    li.append(config[counter])\n",
    "                    counter = counter+total_length\n",
    "            df = df.reindex(index = li)\n",
    "        return df\n",
    "    \n",
    "class SDRank(Configuration):\n",
    "    def __init__(self, config):\n",
    "        self.data = config.data\n",
    "        self.d = config.d\n",
    "        self.options = config.options\n",
    "        self.query = config.query\n",
    "        # Configuration.sd\n",
    "        # Configuration.size \n",
    "    \n",
    "    def calculateRankScore():\n",
    "        print(config.data)\n",
    "        "
   ]
  },
  {
   "cell_type": "code",
   "execution_count": 3,
   "metadata": {},
   "outputs": [
    {
     "data": {
      "text/plain": [
       "<AxesSubplot:title={'center':'csv'}>"
      ]
     },
     "execution_count": 3,
     "metadata": {},
     "output_type": "execute_result"
    },
    {
     "data": {
      "image/png": "[encoded data removed]",
      "text/plain": [
       "<Figure size 720x720 with 1 Axes>"
      ]
     },
     "metadata": {
      "needs_background": "light"
     },
     "output_type": "display_data"
    }
   ],
   "source": [
    "from PAPyA.Rank import *\n",
    "\n",
    "config = \"D:\\coding\\RDF_BenchRankingLib\\settings.yaml\"\n",
    "logs = \"D:\\coding\\RDF_BenchRankingLib\\log\"\n",
    "schemaSDRank = SDRank(config, logs, '250M', 'schemas')\n",
    "schemaSDRank.plot('csv')"
   ]
  },
  {
   "cell_type": "code",
   "execution_count": 6,
   "metadata": {},
   "outputs": [],
   "source": [
    "from abc import ABC, abstractmethod\n",
    "import yaml\n",
    "import itertools\n",
    "import plotly.express as px\n",
    "import pandas as pd\n",
    "from itertools import islice\n",
    "import matplotlib.pyplot as plt\n",
    "import scipy.stats as ss\n",
    "import numpy as np\n",
    "\n",
    "class Configuration():\n",
    "    def loader(filepath):\n",
    "        with open(filepath, \"r\") as f:\n",
    "            data = yaml.safe_load(f)\n",
    "        return data\n",
    "    \n",
    "class SDRank():\n",
    "    def join_tuple_string(strings_tuple) -> str:\n",
    "        return '.'.join(strings_tuple)\n",
    "    \n",
    "    def file_reader(sd:str, size, filepath):\n",
    "        global joined_string\n",
    "        global df\n",
    "        \n",
    "        data = Configuration.loader(filepath)\n",
    "        d = data.get('dimensions')\n",
    "        options = list(d.values())\n",
    "\n",
    "        tuple = list(itertools.product(*options))\n",
    "        joined_string = map(SDRank.join_tuple_string, tuple)\n",
    "        joined_string = list(joined_string)\n",
    "        \n",
    "        avg = []\n",
    "        for i in joined_string:\n",
    "            df = pd.read_csv(f'./log/{size}/{i}.txt', sep = ',', header = None)\n",
    "            df = df.fillna(0)\n",
    "            mean = df.mean(axis=0)\n",
    "            avg.append(mean)\n",
    "\n",
    "        df = pd.DataFrame(avg, index = joined_string)\n",
    "        df = df.set_axis([\"Q\"+str(i+1) for i in range(data.get('query'))], axis = 1)\n",
    "        df = df.fillna(5000)\n",
    "        \n",
    "        if sd != list(d.keys())[-1]:\n",
    "            li = []\n",
    "            config = list(df.index)\n",
    "            d_list = list(d)\n",
    "            key_slice = list(islice(d_list, d_list.index(sd)+1, None))\n",
    "            number_of_options = [d[x]for x in key_slice]\n",
    "            total_length = len(list(itertools.product(*number_of_options)))\n",
    "            \n",
    "            for counter in range(total_length):\n",
    "                for x in range (int(len(config)/total_length)): \n",
    "                    li.append(config[counter])\n",
    "                    counter = counter+total_length\n",
    "            df = df.reindex(index = li)\n",
    "        return df\n",
    "    \n",
    "    def calculateRankScore(sd:str, size, filepath):\n",
    "        global rank_dataframe_rscore\n",
    "        \n",
    "        data = Configuration.loader(filepath)\n",
    "        df = SDRank.file_reader(sd, size, filepath)\n",
    "        d = data.get('dimensions')\n",
    "        # split dataframe according to SD\n",
    "        Dictionary = {}\n",
    "        count = 0\n",
    "        loop = len(d.get(sd))\n",
    "        dfs = []\n",
    "        \n",
    "        for i in range(int(len(joined_string)/len(d.get(sd)))):\n",
    "            Dictionary['df_{}'.format(i)] = df[count:loop]\n",
    "            count = loop\n",
    "            loop = loop+len(d.get(sd))\n",
    "            dfs.append(Dictionary[f'df_{i}'])\n",
    "        \n",
    "        rank_dataframe = []\n",
    "        # create rank occurences\n",
    "        for x in dfs:\n",
    "            df_ranks = x.T\n",
    "            column_names = df_ranks.columns.to_numpy().tolist()\n",
    "            \n",
    "            df_ranks_occurences = []\n",
    "            for index, row in df_ranks.iterrows():\n",
    "                df_ranks_occurences.append(ss.rankdata(row, method = 'max'))\n",
    "\n",
    "            df_ranks_occurences = pd.DataFrame(df_ranks_occurences)\n",
    "\n",
    "            df_transpose = df_ranks_occurences.transpose()\n",
    "\n",
    "            rank_table = []\n",
    "            for index, row in df_transpose.iterrows():\n",
    "                result_row = np.zeros(len(df_transpose.index))\n",
    "                for i in range(len(row)):\n",
    "                    result_row[int(row[i])-1] +=1\n",
    "                rank_table.append(result_row)\n",
    "\n",
    "            rank_table = pd.DataFrame(rank_table)\n",
    "            rank_table = rank_table.set_axis(column_names, axis = 'index')\n",
    "            rank_table = rank_table.set_axis(['Rank '+str(i+1) for i in range(len(column_names))], axis='columns')\n",
    "            \n",
    "            # CREATE R SCORE\n",
    "            q = data.get('query')\n",
    "            d = len(rank_table.index)\n",
    "\n",
    "            rank_score = []\n",
    "            for index, row in rank_table.iterrows():\n",
    "                s=0\n",
    "                for r in range(d):  \n",
    "                    s = s + (row[r]*(d-(r+1)) / (q*(d-1)) )\n",
    "                rank_score.append(s)\n",
    "            rank_score = pd.DataFrame(rank_score)\n",
    "            rank_score = rank_score.set_axis(column_names, axis = 'index')\n",
    "            rank_score = rank_score.set_axis(['Result'], axis='columns')\n",
    "            rank_score = pd.concat([rank_table, rank_score], axis = 1)\n",
    "            rank_dataframe.append(rank_score)\n",
    "        rank_dataframe_rscore = pd.concat(rank_dataframe)\n",
    "        return rank_dataframe_rscore.sort_values(by = ['Result'], ascending = False)\n",
    "    \n",
    "    def plot(dimension:str,size:str, option:str):\n",
    "        SDRank.calculateRankScore(dimension, size, 'settings.yaml')\n",
    "        data = Configuration.loader('settings.yaml')\n",
    "        d = data.get('dimensions')\n",
    "        options = list(d.values())\n",
    "        dims = list(d.keys())\n",
    "        \n",
    "        if len(dims) > 3:\n",
    "            raise Exception(\"too much dimensions\")\n",
    "\n",
    "        if dimension == dims[0]:\n",
    "            if option not in options[0]:\n",
    "                filter = rank_dataframe_rscore.loc[rank_dataframe_rscore.index.str.contains(fr'\\b{option}\\b', regex = True)]\n",
    "\n",
    "                if option in options[1]:\n",
    "                    Dictionary = {}\n",
    "                    loop = len(options[0])\n",
    "                    count = 0\n",
    "                    for i in options[2]:\n",
    "                        Dictionary['{}'.format(i)] = filter[count:loop]\n",
    "                        count = loop\n",
    "                        loop = loop+len(options[0])\n",
    "                    \n",
    "                    key = list(Dictionary)\n",
    "                    Dictionary2 = {}\n",
    "                    \n",
    "                    for j in range(len(options[2])):\n",
    "                        val = list(Dictionary[key[j]]['Result'])\n",
    "                        Dictionary2['val{}'.format(j)] = val\n",
    "                    \n",
    "                    data = np.vstack(list(Dictionary2.values()))\n",
    "                    df2 = pd.DataFrame(data = data, index = list(Dictionary.keys()), columns = options[0])\n",
    "                    return df2.plot.bar(title = str(option), rot = 0, fontsize = 14, figsize = (10,10))\n",
    "                \n",
    "                elif option in options[2]:\n",
    "                    Dictionary = {}\n",
    "                    loop = len(options[0])\n",
    "                    count = 0\n",
    "                    for i in options[1]:\n",
    "                        Dictionary['{}'.format(i)] = filter[count:loop]\n",
    "                        count = loop\n",
    "                        loop = loop+len(options[0])\n",
    "                        \n",
    "                    key = list(Dictionary)\n",
    "                    Dictionary2 = {}\n",
    "                    \n",
    "                    for j in range(len(options[1])):\n",
    "                        val = list(Dictionary[key[j]]['Result'])\n",
    "                        Dictionary2['val{}'.format(j)] = val\n",
    "                    \n",
    "                    data = np.vstack(list(Dictionary2.values()))\n",
    "                    df2 = pd.DataFrame(data = data, index = list(Dictionary.keys()), columns = options[0])\n",
    "                    return df2.plot.bar(title = str(option), rot=0, fontsize = 14, figsize = (10,10))\n",
    "            else:\n",
    "                return 'the dimension is ' + dims[0]\n",
    "\n",
    "        elif dimension == dims[1]:\n",
    "            if option not in options[1]:\n",
    "                filter = rank_dataframe_rscore.loc[rank_dataframe_rscore.index.str.contains(fr'\\b{option}\\b', regex = True)]\n",
    "\n",
    "                if option in options[2]:\n",
    "                    Dictionary = {}\n",
    "                    loop = len(options[1])\n",
    "                    count = 0\n",
    "                    for i in options[0]:\n",
    "                        Dictionary['{}'.format(i)] = filter[count:loop]\n",
    "                        count = loop\n",
    "                        loop = loop+len(options[1])\n",
    "                    \n",
    "                    key = list(Dictionary)\n",
    "                    Dictionary2 = {}\n",
    "                    \n",
    "                    for j in range(len(options[0])):\n",
    "                        val = list(Dictionary[key[j]]['Result'])\n",
    "                        Dictionary2['val{}'.format(j)] = val\n",
    "                    \n",
    "                    data = np.vstack(list(Dictionary2.values()))\n",
    "                    df2 = pd.DataFrame(data = data, index = list(Dictionary.keys()), columns = options[1])\n",
    "                    return df2.plot.bar(title = str(option), rot = 0, fontsize = 14, figsize = (10,10))\n",
    "                \n",
    "                elif option in options[0]:\n",
    "                    Dictionary = {}\n",
    "                    loop = len(options[1])\n",
    "                    count = 0\n",
    "                    for i in options[2]:\n",
    "                        Dictionary['{}'.format(i)] = filter[count:loop]\n",
    "                        count = loop\n",
    "                        loop = loop+len(options[1])\n",
    "                        \n",
    "                    key = list(Dictionary)\n",
    "                    Dictionary2 = {}\n",
    "                    \n",
    "                    for j in range(len(options[2])):\n",
    "                        val = list(Dictionary[key[j]]['Result'])\n",
    "                        Dictionary2['val{}'.format(j)] = val\n",
    "                    \n",
    "                    data = np.vstack(list(Dictionary2.values()))\n",
    "                    df2 = pd.DataFrame(data = data, index = list(Dictionary.keys()), columns = options[1])\n",
    "                    return df2.plot.bar(title = str(option), rot=0, fontsize = 14, figsize = (10,10))\n",
    "            else:\n",
    "                return 'the dimension is ' + dims[1]\n",
    "                    \n",
    "        elif dimension == dims[2]:\n",
    "            if option not in options[2]:\n",
    "                filter = rank_dataframe_rscore.loc[rank_dataframe_rscore.index.str.contains(fr'\\b{option}\\b', regex = True)]\n",
    "\n",
    "                if option in options[0]:\n",
    "                    Dictionary = {}\n",
    "                    loop = len(options[2])\n",
    "                    count = 0\n",
    "                    for i in options[1]:\n",
    "                        Dictionary['{}'.format(i)] = filter[count:loop]\n",
    "                        count = loop\n",
    "                        loop = loop+len(options[2])\n",
    "                    \n",
    "                    key = list(Dictionary)\n",
    "                    Dictionary2 = {}\n",
    "                    \n",
    "                    for j in range(len(options[1])):\n",
    "                        val = list(Dictionary[key[j]]['Result'])\n",
    "                        Dictionary2['val{}'.format(j)] = val\n",
    "                    \n",
    "                    data = np.vstack(list(Dictionary2.values()))\n",
    "                    df2 = pd.DataFrame(data = data, index = list(Dictionary.keys()), columns = options[2])\n",
    "                    return df2.plot.bar(title = str(option), rot = 0, fontsize = 14, figsize = (10,10))\n",
    "                \n",
    "                elif option in options[1]:\n",
    "                    Dictionary = {}\n",
    "                    loop = len(options[2])\n",
    "                    count = 0\n",
    "                    for i in options[0]:\n",
    "                        Dictionary['{}'.format(i)] = filter[count:loop]\n",
    "                        count = loop\n",
    "                        loop = loop+len(options[2])\n",
    "                        \n",
    "                    key = list(Dictionary)\n",
    "                    Dictionary2 = {}\n",
    "                    \n",
    "                    for j in range(len(options[0])):\n",
    "                        val = list(Dictionary[key[j]]['Result'])\n",
    "                        Dictionary2['val{}'.format(j)] = val\n",
    "                    \n",
    "                    data = np.vstack(list(Dictionary2.values()))\n",
    "                    df2 = pd.DataFrame(data = data, index = list(Dictionary.keys()), columns = options[2])\n",
    "                    return df2.plot.bar(title = str(option), rot=0, fontsize = 14, figsize = (10,10))\n",
    "            else:\n",
    "                return 'the dimension is ' + dims[2]\n",
    "    def plotRadar(sd:str, size:str):\n",
    "        import warnings\n",
    "        warnings.simplefilter(action='ignore', category=FutureWarning)\n",
    "\n",
    "        data = Configuration.loader('settings.yaml')\n",
    "        d = data.get('dimensions')\n",
    "        options = list(d.values())\n",
    "        dims = list(d.keys())\n",
    "        \n",
    "        if len(dims) > 3:\n",
    "            raise Exception(\"too much dimensions\")\n",
    "\n",
    "        topConfig = SDRank.calculateRankScore(sd, size, 'settings.yaml')['Result'].index.str.replace('.', ' ', regex=False)\n",
    "        topConfig = topConfig[0].split()\n",
    "\n",
    "        x = topConfig[0]\n",
    "        y = topConfig[1]\n",
    "        z = topConfig[2]\n",
    "\n",
    "        res = []\n",
    "        for i in dims:\n",
    "            SDRank.calculateRankScore(i, size, 'settings.yaml')\n",
    "            r = rank_dataframe_rscore.loc[rank_dataframe_rscore.index.str.contains(fr'(?=.*\\b{x}\\b)(?=.*\\b{y}\\b)(?=.*\\b{z}\\b)', regex=True)]['Result']\n",
    "            res.append(r[0])\n",
    "\n",
    "        df = pd.DataFrame(dict(r=res, theta=topConfig))\n",
    "        fig = px.line_polar(df, r='r', theta='theta', line_close=True)\n",
    "        return fig.show()\n",
    "\n",
    "class MDRankPareto():\n",
    "    # NON-DOMINATED SORTING ALGORITHM \n",
    "    def nsga2(inputPoints, dominates):\n",
    "        paretoPoints = set()\n",
    "        candidateRowNr = 0\n",
    "        dominatedPoints = set()\n",
    "        while True:\n",
    "            candidateRow = inputPoints[candidateRowNr] # masuk row pertama\n",
    "            inputPoints.remove(candidateRow) # buang row pertamanya\n",
    "            rowNr = 0\n",
    "            nonDominated = True # row kandidat yg baru masuk di set true buat non dominated nya\n",
    "            while len(inputPoints) != 0 and rowNr < len(inputPoints):\n",
    "                row = inputPoints[rowNr] # ambil row lanjutannya\n",
    "                if dominates(candidateRow, row): # ngecek row kandidat ama row lanjutan di input_point dominasinya\n",
    "                    # If it is worse on all features remove the row from the array\n",
    "                    inputPoints.remove(row)\n",
    "                    dominatedPoints.add(tuple(row))\n",
    "                elif dominates(row, candidateRow):\n",
    "                    nonDominated = False\n",
    "                    dominatedPoints.add(tuple(candidateRow))\n",
    "                    rowNr += 1\n",
    "                else:\n",
    "                    rowNr += 1\n",
    "\n",
    "            if nonDominated:\n",
    "                # add the non-dominated point to the Pareto frontier\n",
    "                paretoPoints.add(tuple(candidateRow))\n",
    "\n",
    "            if len(inputPoints) == 0:\n",
    "                break\n",
    "        return paretoPoints, dominatedPoints\n",
    "    \n",
    "    def dominates(row, candidateRow):\n",
    "        return np.sum([row[x] <= candidateRow[x] for x in range(len(row))]) == len(row)# kalo lebih kecil semua berarti dominasi\n",
    "    def dominates_agg(row, candidateRow):\n",
    "        return np.sum([row[x] >= candidateRow[x] for x in range(len(row))]) == len(row)\n",
    "        \n",
    "    def getConfs(points,orignaldf):\n",
    "        point_confs = {}\n",
    "        for i in range(0, len(orignaldf)):\n",
    "            for val in points:\n",
    "                if (list(val)==np.array(orignaldf[i][1:], dtype=np.float64).tolist()):\n",
    "                    point_confs[val]=orignaldf[i][0]\n",
    "        return point_confs\n",
    "\n",
    "    def getConfsSorted(confsDict):  \n",
    "        # # summing all the values using sum()\n",
    "        temp1 = {val: sum(float(idx) for idx in val) \n",
    "                    for val, key in confsDict.items()} #sum the ranks of non dominated solution\n",
    "                \n",
    "        # using sorted to perform sorting as required\n",
    "        temp2 = sorted(temp1.items(), key = lambda ele : temp1[ele[0]],reverse=False) #sort according to the sum before\n",
    "        res={}\n",
    "        for key, val in temp2:\n",
    "            res[key]=confsDict[key]\n",
    "        return res\n",
    "    \n",
    "    def plot(size, filepath):\n",
    "        MDRankPareto.paretoAgg(size, filepath)\n",
    "        \n",
    "        if len(dims) > 3:\n",
    "            raise Exception(\"too much dimensions\")\n",
    "        \n",
    "        fig = plt.figure()\n",
    "        fig.set_size_inches(15, 15)\n",
    "        ax = fig.add_subplot(111, projection='3d')\n",
    "        dp = np.array(list(dominatedPoints))\n",
    "        pp = np.array(list(paretoPoints))\n",
    "\n",
    "        print(pp.shape,dp.shape)\n",
    "        ax.scatter(dp[:,0],dp[:,1],dp[:,2])\n",
    "        ax.scatter(pp[:,0],pp[:,1],pp[:,2],color='green')\n",
    "\n",
    "        ax.set_xlabel('Rf')\n",
    "        ax.set_ylabel('Rp')\n",
    "        ax.set_zlabel('Rs')\n",
    "        \n",
    "        import matplotlib.tri as mtri\n",
    "        triang = mtri.Triangulation(pp[:,0],pp[:,1])\n",
    "        ax.plot_trisurf(triang,pp[:,2],color='green',alpha=0.3)\n",
    "        plt.show()\n",
    "    \n",
    "    def paretoQ(size, filepath):\n",
    "        data = Configuration.loader(filepath)\n",
    "        d = data.get('dimensions')\n",
    "        \n",
    "        dimensionsAll = Ranker.getRanks(sd = list(d.keys())[-1], size=size, filepath=filepath)\n",
    "        dimensionsAll = dimensionsAll.reset_index().values\n",
    "        dimensions = np.array(Ranker.getRanks(sd = list(d.keys())[-1], size=size, filepath=filepath)[:], dtype = np.float64)\n",
    "        inputPoints = dimensions.tolist()\n",
    "        paretoPoints, dominatedPoints = MDRankPareto.nsga2(inputPoints, MDRankPareto.dominates)\n",
    "        \n",
    "        pareto_q = MDRankPareto.getConfs(paretoPoints, dimensionsAll)\n",
    "        pareto_q = MDRankPareto.getConfsSorted(pareto_q)\n",
    "\n",
    "        vals = np.array(list(pareto_q.values()))\n",
    "        table_pareto = pd.DataFrame({'Solution': vals}, columns=['Solution'])\n",
    "\n",
    "        dominated=  MDRankPareto.getConfs(dominatedPoints, dimensionsAll)\n",
    "        dominated = MDRankPareto.getConfsSorted(dominated)\n",
    "        vals = np.array(list(dominated.values()))\n",
    "        table_dominated = pd.DataFrame({'Dominated': vals}, columns=['Dominated'])\n",
    "\n",
    "        table = pd.concat([table_pareto, table_dominated], axis = 1)\n",
    "        table = table.replace(np.nan, '', regex=True)\n",
    "        return table\n",
    "    \n",
    "    def paretoAgg(size, filepath):\n",
    "        global dims\n",
    "        global paretoPoints\n",
    "        global dominatedPoints\n",
    "        \n",
    "        data = Configuration.loader('settings.yaml')\n",
    "        d = data.get('dimensions')\n",
    "        dims = list(d.keys())\n",
    "\n",
    "        li = []\n",
    "\n",
    "        for x in dims:\n",
    "            dimension_ranking = SDRank.calculateRankScore(x, size, filepath)\n",
    "            dimension_ranking = dimension_ranking['Result']\n",
    "            li.append(dimension_ranking)\n",
    "        new_df = pd.concat(li, axis = 1)\n",
    "        dimensionsAll = new_df.reset_index().values\n",
    "        dimensions = np.array(dimensionsAll[:,1:], dtype = np.float64)\n",
    "        inputPoints = dimensions.tolist()\n",
    "        paretoPoints, dominatedPoints = MDRankPareto.nsga2(inputPoints, MDRankPareto.dominates_agg)\n",
    "\n",
    "        pareto_agg = MDRankPareto.getConfs(paretoPoints, dimensionsAll)\n",
    "        pareto_agg = MDRankPareto.getConfsSorted(pareto_agg)\n",
    "        vals = np.array(list(pareto_agg.values()))\n",
    "        table_pareto = pd.DataFrame(vals, columns=['Solution'])\n",
    "\n",
    "        dominated = MDRankPareto.getConfs(dominatedPoints, dimensionsAll)\n",
    "        dominated = MDRankPareto.getConfsSorted(dominated)\n",
    "        vals = np.array(list(dominated.values()))\n",
    "        table_dominated = pd.DataFrame({'Dominated': vals}, columns=['Dominated'])\n",
    "        \n",
    "        table = pd.concat([table_pareto, table_dominated], axis = 1)\n",
    "        table = table.replace(np.nan, '', regex=True)\n",
    "        return table\n",
    "    \n",
    "class Ranker():\n",
    "    def getRanks(sd, size, filepath):\n",
    "        df = SDRank.file_reader(sd, size, filepath)\n",
    "        df_transpose = df.T\n",
    "        df_full_ranks = []\n",
    "        for index, row in df_transpose.iterrows():\n",
    "            df_full_ranks.append(ss.rankdata(row, method = 'max'))\n",
    "        df_full_ranks = pd.DataFrame(df_full_ranks)\n",
    "        df_full_ranks = df_full_ranks.T\n",
    "        df_full_ranks = df_full_ranks.set_axis(df_transpose.columns, axis = 'index') #configurations  \n",
    "        df_full_ranks = df_full_ranks.set_axis([i+1 for i in range(len(df_transpose.index))], axis='columns') #query\n",
    "        \n",
    "        return df_full_ranks\n",
    "    \n",
    "    def bestofSD(sd,size,filepath,k):\n",
    "        df = SDRank.calculateRankScore(sd,size,filepath)\n",
    "        df = df['Result']\n",
    "        df = df.nlargest(k)\n",
    "        return df.index.to_numpy().tolist()\n",
    "    \n",
    "    def bestofParetoQ(size, filepath, k):\n",
    "        df = MDRankPareto.paretoQ(size, filepath)\n",
    "        df = list(df['Solution'])[:k]\n",
    "        return df\n",
    "    \n",
    "    def bestofParetoAgg(size, filepath, k):\n",
    "        df = MDRankPareto.paretoAgg(size, filepath)\n",
    "        df = list(df['Solution'])[:k]\n",
    "        return df\n",
    "    \n",
    "    def normalised_kendall_tau_distance(values1, values2):\n",
    "        \"\"\"Compute the Kendall tau distance.\"\"\"\n",
    "        n = len(values1)\n",
    "        assert len(values2) == n, \"Both lists have to be of equal length\"\n",
    "        i, j = np.meshgrid(np.arange(n), np.arange(n))\n",
    "        a = np.argsort(values1)\n",
    "        b = np.argsort(values2)\n",
    "        ndisordered = np.logical_or(np.logical_and(a[i] < a[j], b[i] > b[j]), np.logical_and(a[i] > a[j], b[i] < b[j])).sum()\n",
    "        return ndisordered / (n * (n - 1))\n",
    "    \n",
    "    def conformance(conformanceList,size, filepath, k:int, h:int):\n",
    "        data = Configuration.loader('settings.yaml')\n",
    "        d = data.get('dimensions')\n",
    "        q = data.get('query')\n",
    "        # list(d.keys())[-1]\n",
    "        dims = list(d.keys())\n",
    "\n",
    "        data = []\n",
    "        idx = []\n",
    "        for x in conformanceList:\n",
    "            if x in dims:\n",
    "                criteria_table = Ranker.getRanks(x, size, filepath).loc[Ranker.bestofSD(x,size,filepath,k)]\n",
    "                criteria_table = criteria_table[criteria_table>h]\n",
    "                count = criteria_table.count(axis = 1)\n",
    "                sum = count.sum(axis=0)\n",
    "                conformance = 1 - (sum/(k*q))\n",
    "                data.append(conformance)\n",
    "                idx.append(x)\n",
    "            elif x == 'paretoQ':\n",
    "                criteria_table_paretoQ = Ranker.getRanks(sd = list(d.keys())[-1], size=size, filepath=filepath).loc[Ranker.bestofParetoQ(size, filepath, k)]\n",
    "                criteria_table_paretoQ = criteria_table_paretoQ[criteria_table_paretoQ>h]\n",
    "                count = criteria_table_paretoQ.count(axis = 1)\n",
    "                sum = count.sum(axis=0)\n",
    "                conformance = 1 - (sum/(k*q))\n",
    "                data.append(conformance)\n",
    "                idx.append('paretoQ')\n",
    "            elif x == 'paretoAgg':\n",
    "                criteria_table_paretoAgg = Ranker.getRanks(sd = list(d.keys())[-1], size=size, filepath=filepath).loc[Ranker.bestofParetoAgg(size, filepath, k)]\n",
    "                criteria_table_paretoAgg = criteria_table_paretoAgg[criteria_table_paretoAgg>h]\n",
    "                count = criteria_table_paretoAgg.count(axis = 1)\n",
    "                sum = count.sum(axis=0)\n",
    "                conformance = 1 - (sum/(k*q))\n",
    "                data.append(conformance)\n",
    "                idx.append('paretoAgg')\n",
    "                \n",
    "        table = pd.DataFrame(data, index = idx, columns = [size])\n",
    "        return table\n",
    "    \n",
    "    def coherence(coherenceList, rankset1, rankset2):\n",
    "        data = Configuration.loader('settings.yaml')\n",
    "        d = data.get('dimensions')\n",
    "        q = data.get('query')\n",
    "        # list(d.keys())[-1]\n",
    "        dims = list(d.keys())\n",
    "        \n",
    "        result = []\n",
    "        for x in coherenceList:\n",
    "            if x in dims:\n",
    "                var1 = SDRank.calculateRankScore(x, rankset1, 'settings.yaml')\n",
    "                var1 = var1['Result'].sort_index()\n",
    "                var1 = var1.to_numpy()\n",
    "                \n",
    "                var2 = SDRank.calculateRankScore(x, rankset2, 'settings.yaml')\n",
    "                var2 = var2['Result'].sort_index()\n",
    "                var2 = var2.to_numpy()\n",
    "                \n",
    "                kendall = Ranker.normalised_kendall_tau_distance(var1, var2)\n",
    "                result.append(kendall)\n",
    "            \n",
    "            elif x == 'paretoAgg':\n",
    "                var1 = SDRank.calculateRankScore(list(d.keys())[-1], rankset1, 'settings.yaml')\n",
    "                paretoAggSolution = MDRankPareto.paretoAgg(rankset1, 'settings.yaml')\n",
    "                paretoAggSolution = paretoAggSolution['Solution'].replace('', np.nan)\n",
    "                paretoAggSolution = paretoAggSolution.dropna()\n",
    "                var1 = var1.loc[paretoAggSolution]\n",
    "                var1 = var1['Result']\n",
    "\n",
    "                var2 = SDRank.calculateRankScore(list(d.keys())[-1], rankset2, 'settings.yaml')\n",
    "                paretoAggSolution = MDRankPareto.paretoAgg(rankset2, 'settings.yaml')\n",
    "                paretoAggSolution = paretoAggSolution['Solution'].replace('', np.nan)\n",
    "                paretoAggSolution = paretoAggSolution.dropna()\n",
    "                var2 = var2.loc[paretoAggSolution]\n",
    "                var2 = var2['Result']\n",
    "\n",
    "                newDf = pd.concat([var1, var2], axis = 1)\n",
    "                newDf_column_name = newDf.columns.values\n",
    "                newDf_column_name[0] = str(rankset1) #var1\n",
    "                newDf_column_name[1] = str(rankset2) #var2\n",
    "\n",
    "                newDf.columns = newDf_column_name\n",
    "                newDf = newDf.fillna(1)\n",
    "                var1 = newDf[str(rankset1)]\n",
    "                var2 = newDf[str(rankset2)]\n",
    "                \n",
    "                var1 = var1.to_numpy()\n",
    "                var2 = var2.to_numpy()\n",
    "                kendall = Ranker.normalised_kendall_tau_distance(var1, var2)\n",
    "                result.append(kendall)\n",
    "            \n",
    "            elif x == 'paretoQ':\n",
    "                var1 = SDRank.calculateRankScore(list(d.keys())[-1], rankset1, 'settings.yaml')\n",
    "                paretoQSolution = MDRankPareto.paretoQ(rankset1, 'settings.yaml')\n",
    "                paretoQSolution = paretoQSolution['Solution'].replace('', np.nan)\n",
    "                paretoQSolution = paretoQSolution.dropna()\n",
    "                var1 = var1.loc[paretoQSolution]\n",
    "                var1 = var1['Result']\n",
    "\n",
    "                var2 = SDRank.calculateRankScore(list(d.keys())[-1], rankset2, 'settings.yaml')\n",
    "                paretoQSolution = MDRankPareto.paretoQ(rankset1, 'settings.yaml')\n",
    "                paretoQSolution = paretoQSolution['Solution'].replace('', np.nan)\n",
    "                paretoQSolution = paretoQSolution.dropna()\n",
    "                var2 = var2.loc[paretoQSolution]\n",
    "                var2 = var2['Result']\n",
    "\n",
    "                newDf = pd.concat([var1, var2], axis = 1)\n",
    "                newDf_column_name = newDf.columns.values\n",
    "                newDf_column_name[0] = str(rankset1) #var1\n",
    "                newDf_column_name[1] = str(rankset2) #var2\n",
    "\n",
    "                newDf.columns = newDf_column_name\n",
    "                newDf = newDf.fillna(1)\n",
    "                var1 = newDf[str(rankset1)]\n",
    "                var2 = newDf[str(rankset2)]\n",
    "                \n",
    "                var1 = var1.to_numpy()\n",
    "                var2 = var2.to_numpy()\n",
    "                kendall = Ranker.normalised_kendall_tau_distance(var1, var2)\n",
    "                result.append(kendall)\n",
    "        \n",
    "        return pd.DataFrame(result, index=coherenceList, columns=['Kendall\\'s Index'])"
   ]
  },
  {
   "cell_type": "code",
   "execution_count": null,
   "metadata": {},
   "outputs": [],
   "source": [
    "SDRank.calculateRankScore('storage', '100M', 'settings.yaml')"
   ]
  },
  {
   "cell_type": "code",
   "execution_count": 8,
   "metadata": {},
   "outputs": [
    {
     "data": {
      "text/plain": [
       "<AxesSubplot:title={'center':'horizontal'}>"
      ]
     },
     "execution_count": 8,
     "metadata": {},
     "output_type": "execute_result"
    },
    {
     "data": {
      "image/png": "[encoded data removed]",
      "text/plain": [
       "<Figure size 720x720 with 1 Axes>"
      ]
     },
     "metadata": {
      "needs_background": "light"
     },
     "output_type": "display_data"
    }
   ],
   "source": [
    "dim = 'schemas'\n",
    "dataset = '100M'\n",
    "opt = 'horizontal'  \n",
    "SDRank.plot(dim, dataset, opt)"
   ]
  },
  {
   "cell_type": "code",
   "execution_count": 4,
   "metadata": {},
   "outputs": [
    {
     "data": {
      "application/vnd.plotly.v1+json": {
       "config": {
        "plotlyServerURL": "https://plot.ly"
       },
       "data": [
        {
         "hovertemplate": "r=%{r}<br>theta=%{theta}<extra></extra>",
         "legendgroup": "",
         "line": {
          "color": "#636efa",
          "dash": "solid"
         },
         "marker": {
          "symbol": "circle"
         },
         "mode": "lines",
         "name": "",
         "r": [
          0.18181818181818182,
          0.8636363636363636,
          1,
          0.18181818181818182
         ],
         "showlegend": false,
         "subplot": "polar",
         "theta": [
          "st",
          "subject",
          "avro",
          "st"
         ],
         "type": "scatterpolar"
        }
       ],
       "layout": {
        "legend": {
         "tracegroupgap": 0
        },
        "margin": {
         "t": 60
        },
        "polar": {
         "angularaxis": {
          "direction": "clockwise",
          "rotation": 90
         },
         "domain": {
          "x": [
           0,
           1
          ],
          "y": [
           0,
           1
          ]
         }
        },
        "template": {
         "data": {
          "bar": [
           {
            "error_x": {
             "color": "#2a3f5f"
            },
            "error_y": {
             "color": "#2a3f5f"
            },
            "marker": {
             "line": {
              "color": "#E5ECF6",
              "width": 0.5
             },
             "pattern": {
              "fillmode": "overlay",
              "size": 10,
              "solidity": 0.2
             }
            },
            "type": "bar"
           }
          ],
          "barpolar": [
           {
            "marker": {
             "line": {
              "color": "#E5ECF6",
              "width": 0.5
             },
             "pattern": {
              "fillmode": "overlay",
              "size": 10,
              "solidity": 0.2
             }
            },
            "type": "barpolar"
           }
          ],
          "carpet": [
           {
            "aaxis": {
             "endlinecolor": "#2a3f5f",
             "gridcolor": "white",
             "linecolor": "white",
             "minorgridcolor": "white",
             "startlinecolor": "#2a3f5f"
            },
            "baxis": {
             "endlinecolor": "#2a3f5f",
             "gridcolor": "white",
             "linecolor": "white",
             "minorgridcolor": "white",
             "startlinecolor": "#2a3f5f"
            },
            "type": "carpet"
           }
          ],
          "choropleth": [
           {
            "colorbar": {
             "outlinewidth": 0,
             "ticks": ""
            },
            "type": "choropleth"
           }
          ],
          "contour": [
           {
            "colorbar": {
             "outlinewidth": 0,
             "ticks": ""
            },
            "colorscale": [
             [
              0,
              "#0d0887"
             ],
             [
              0.1111111111111111,
              "#46039f"
             ],
             [
              0.2222222222222222,
              "#7201a8"
             ],
             [
              0.3333333333333333,
              "#9c179e"
             ],
             [
              0.4444444444444444,
              "#bd3786"
             ],
             [
              0.5555555555555556,
              "#d8576b"
             ],
             [
              0.6666666666666666,
              "#ed7953"
             ],
             [
              0.7777777777777778,
              "#fb9f3a"
             ],
             [
              0.8888888888888888,
              "#fdca26"
             ],
             [
              1,
              "#f0f921"
             ]
            ],
            "type": "contour"
           }
          ],
          "contourcarpet": [
           {
            "colorbar": {
             "outlinewidth": 0,
             "ticks": ""
            },
            "type": "contourcarpet"
           }
          ],
          "heatmap": [
           {
            "colorbar": {
             "outlinewidth": 0,
             "ticks": ""
            },
            "colorscale": [
             [
              0,
              "#0d0887"
             ],
             [
              0.1111111111111111,
              "#46039f"
             ],
             [
              0.2222222222222222,
              "#7201a8"
             ],
             [
              0.3333333333333333,
              "#9c179e"
             ],
             [
              0.4444444444444444,
              "#bd3786"
             ],
             [
              0.5555555555555556,
              "#d8576b"
             ],
             [
              0.6666666666666666,
              "#ed7953"
             ],
             [
              0.7777777777777778,
              "#fb9f3a"
             ],
             [
              0.8888888888888888,
              "#fdca26"
             ],
             [
              1,
              "#f0f921"
             ]
            ],
            "type": "heatmap"
           }
          ],
          "heatmapgl": [
           {
            "colorbar": {
             "outlinewidth": 0,
             "ticks": ""
            },
            "colorscale": [
             [
              0,
              "#0d0887"
             ],
             [
              0.1111111111111111,
              "#46039f"
             ],
             [
              0.2222222222222222,
              "#7201a8"
             ],
             [
              0.3333333333333333,
              "#9c179e"
             ],
             [
              0.4444444444444444,
              "#bd3786"
             ],
             [
              0.5555555555555556,
              "#d8576b"
             ],
             [
              0.6666666666666666,
              "#ed7953"
             ],
             [
              0.7777777777777778,
              "#fb9f3a"
             ],
             [
              0.8888888888888888,
              "#fdca26"
             ],
             [
              1,
              "#f0f921"
             ]
            ],
            "type": "heatmapgl"
           }
          ],
          "histogram": [
           {
            "marker": {
             "pattern": {
              "fillmode": "overlay",
              "size": 10,
              "solidity": 0.2
             }
            },
            "type": "histogram"
           }
          ],
          "histogram2d": [
           {
            "colorbar": {
             "outlinewidth": 0,
             "ticks": ""
            },
            "colorscale": [
             [
              0,
              "#0d0887"
             ],
             [
              0.1111111111111111,
              "#46039f"
             ],
             [
              0.2222222222222222,
              "#7201a8"
             ],
             [
              0.3333333333333333,
              "#9c179e"
             ],
             [
              0.4444444444444444,
              "#bd3786"
             ],
             [
              0.5555555555555556,
              "#d8576b"
             ],
             [
              0.6666666666666666,
              "#ed7953"
             ],
             [
              0.7777777777777778,
              "#fb9f3a"
             ],
             [
              0.8888888888888888,
              "#fdca26"
             ],
             [
              1,
              "#f0f921"
             ]
            ],
            "type": "histogram2d"
           }
          ],
          "histogram2dcontour": [
           {
            "colorbar": {
             "outlinewidth": 0,
             "ticks": ""
            },
            "colorscale": [
             [
              0,
              "#0d0887"
             ],
             [
              0.1111111111111111,
              "#46039f"
             ],
             [
              0.2222222222222222,
              "#7201a8"
             ],
             [
              0.3333333333333333,
              "#9c179e"
             ],
             [
              0.4444444444444444,
              "#bd3786"
             ],
             [
              0.5555555555555556,
              "#d8576b"
             ],
             [
              0.6666666666666666,
              "#ed7953"
             ],
             [
              0.7777777777777778,
              "#fb9f3a"
             ],
             [
              0.8888888888888888,
              "#fdca26"
             ],
             [
              1,
              "#f0f921"
             ]
            ],
            "type": "histogram2dcontour"
           }
          ],
          "mesh3d": [
           {
            "colorbar": {
             "outlinewidth": 0,
             "ticks": ""
            },
            "type": "mesh3d"
           }
          ],
          "parcoords": [
           {
            "line": {
             "colorbar": {
              "outlinewidth": 0,
              "ticks": ""
             }
            },
            "type": "parcoords"
           }
          ],
          "pie": [
           {
            "automargin": true,
            "type": "pie"
           }
          ],
          "scatter": [
           {
            "marker": {
             "colorbar": {
              "outlinewidth": 0,
              "ticks": ""
             }
            },
            "type": "scatter"
           }
          ],
          "scatter3d": [
           {
            "line": {
             "colorbar": {
              "outlinewidth": 0,
              "ticks": ""
             }
            },
            "marker": {
             "colorbar": {
              "outlinewidth": 0,
              "ticks": ""
             }
            },
            "type": "scatter3d"
           }
          ],
          "scattercarpet": [
           {
            "marker": {
             "colorbar": {
              "outlinewidth": 0,
              "ticks": ""
             }
            },
            "type": "scattercarpet"
           }
          ],
          "scattergeo": [
           {
            "marker": {
             "colorbar": {
              "outlinewidth": 0,
              "ticks": ""
             }
            },
            "type": "scattergeo"
           }
          ],
          "scattergl": [
           {
            "marker": {
             "colorbar": {
              "outlinewidth": 0,
              "ticks": ""
             }
            },
            "type": "scattergl"
           }
          ],
          "scattermapbox": [
           {
            "marker": {
             "colorbar": {
              "outlinewidth": 0,
              "ticks": ""
             }
            },
            "type": "scattermapbox"
           }
          ],
          "scatterpolar": [
           {
            "marker": {
             "colorbar": {
              "outlinewidth": 0,
              "ticks": ""
             }
            },
            "type": "scatterpolar"
           }
          ],
          "scatterpolargl": [
           {
            "marker": {
             "colorbar": {
              "outlinewidth": 0,
              "ticks": ""
             }
            },
            "type": "scatterpolargl"
           }
          ],
          "scatterternary": [
           {
            "marker": {
             "colorbar": {
              "outlinewidth": 0,
              "ticks": ""
             }
            },
            "type": "scatterternary"
           }
          ],
          "surface": [
           {
            "colorbar": {
             "outlinewidth": 0,
             "ticks": ""
            },
            "colorscale": [
             [
              0,
              "#0d0887"
             ],
             [
              0.1111111111111111,
              "#46039f"
             ],
             [
              0.2222222222222222,
              "#7201a8"
             ],
             [
              0.3333333333333333,
              "#9c179e"
             ],
             [
              0.4444444444444444,
              "#bd3786"
             ],
             [
              0.5555555555555556,
              "#d8576b"
             ],
             [
              0.6666666666666666,
              "#ed7953"
             ],
             [
              0.7777777777777778,
              "#fb9f3a"
             ],
             [
              0.8888888888888888,
              "#fdca26"
             ],
             [
              1,
              "#f0f921"
             ]
            ],
            "type": "surface"
           }
          ],
          "table": [
           {
            "cells": {
             "fill": {
              "color": "#EBF0F8"
             },
             "line": {
              "color": "white"
             }
            },
            "header": {
             "fill": {
              "color": "#C8D4E3"
             },
             "line": {
              "color": "white"
             }
            },
            "type": "table"
           }
          ]
         },
         "layout": {
          "annotationdefaults": {
           "arrowcolor": "#2a3f5f",
           "arrowhead": 0,
           "arrowwidth": 1
          },
          "autotypenumbers": "strict",
          "coloraxis": {
           "colorbar": {
            "outlinewidth": 0,
            "ticks": ""
           }
          },
          "colorscale": {
           "diverging": [
            [
             0,
             "#8e0152"
            ],
            [
             0.1,
             "#c51b7d"
            ],
            [
             0.2,
             "#de77ae"
            ],
            [
             0.3,
             "#f1b6da"
            ],
            [
             0.4,
             "#fde0ef"
            ],
            [
             0.5,
             "#f7f7f7"
            ],
            [
             0.6,
             "#e6f5d0"
            ],
            [
             0.7,
             "#b8e186"
            ],
            [
             0.8,
             "#7fbc41"
            ],
            [
             0.9,
             "#4d9221"
            ],
            [
             1,
             "#276419"
            ]
           ],
           "sequential": [
            [
             0,
             "#0d0887"
            ],
            [
             0.1111111111111111,
             "#46039f"
            ],
            [
             0.2222222222222222,
             "#7201a8"
            ],
            [
             0.3333333333333333,
             "#9c179e"
            ],
            [
             0.4444444444444444,
             "#bd3786"
            ],
            [
             0.5555555555555556,
             "#d8576b"
            ],
            [
             0.6666666666666666,
             "#ed7953"
            ],
            [
             0.7777777777777778,
             "#fb9f3a"
            ],
            [
             0.8888888888888888,
             "#fdca26"
            ],
            [
             1,
             "#f0f921"
            ]
           ],
           "sequentialminus": [
            [
             0,
             "#0d0887"
            ],
            [
             0.1111111111111111,
             "#46039f"
            ],
            [
             0.2222222222222222,
             "#7201a8"
            ],
            [
             0.3333333333333333,
             "#9c179e"
            ],
            [
             0.4444444444444444,
             "#bd3786"
            ],
            [
             0.5555555555555556,
             "#d8576b"
            ],
            [
             0.6666666666666666,
             "#ed7953"
            ],
            [
             0.7777777777777778,
             "#fb9f3a"
            ],
            [
             0.8888888888888888,
             "#fdca26"
            ],
            [
             1,
             "#f0f921"
            ]
           ]
          },
          "colorway": [
           "#636efa",
           "#EF553B",
           "#00cc96",
           "#ab63fa",
           "#FFA15A",
           "#19d3f3",
           "#FF6692",
           "#B6E880",
           "#FF97FF",
           "#FECB52"
          ],
          "font": {
           "color": "#2a3f5f"
          },
          "geo": {
           "bgcolor": "white",
           "lakecolor": "white",
           "landcolor": "#E5ECF6",
           "showlakes": true,
           "showland": true,
           "subunitcolor": "white"
          },
          "hoverlabel": {
           "align": "left"
          },
          "hovermode": "closest",
          "mapbox": {
           "style": "light"
          },
          "paper_bgcolor": "white",
          "plot_bgcolor": "#E5ECF6",
          "polar": {
           "angularaxis": {
            "gridcolor": "white",
            "linecolor": "white",
            "ticks": ""
           },
           "bgcolor": "#E5ECF6",
           "radialaxis": {
            "gridcolor": "white",
            "linecolor": "white",
            "ticks": ""
           }
          },
          "scene": {
           "xaxis": {
            "backgroundcolor": "#E5ECF6",
            "gridcolor": "white",
            "gridwidth": 2,
            "linecolor": "white",
            "showbackground": true,
            "ticks": "",
            "zerolinecolor": "white"
           },
           "yaxis": {
            "backgroundcolor": "#E5ECF6",
            "gridcolor": "white",
            "gridwidth": 2,
            "linecolor": "white",
            "showbackground": true,
            "ticks": "",
            "zerolinecolor": "white"
           },
           "zaxis": {
            "backgroundcolor": "#E5ECF6",
            "gridcolor": "white",
            "gridwidth": 2,
            "linecolor": "white",
            "showbackground": true,
            "ticks": "",
            "zerolinecolor": "white"
           }
          },
          "shapedefaults": {
           "line": {
            "color": "#2a3f5f"
           }
          },
          "ternary": {
           "aaxis": {
            "gridcolor": "white",
            "linecolor": "white",
            "ticks": ""
           },
           "baxis": {
            "gridcolor": "white",
            "linecolor": "white",
            "ticks": ""
           },
           "bgcolor": "#E5ECF6",
           "caxis": {
            "gridcolor": "white",
            "linecolor": "white",
            "ticks": ""
           }
          },
          "title": {
           "x": 0.05
          },
          "xaxis": {
           "automargin": true,
           "gridcolor": "white",
           "linecolor": "white",
           "ticks": "",
           "title": {
            "standoff": 15
           },
           "zerolinecolor": "white",
           "zerolinewidth": 2
          },
          "yaxis": {
           "automargin": true,
           "gridcolor": "white",
           "linecolor": "white",
           "ticks": "",
           "title": {
            "standoff": 15
           },
           "zerolinecolor": "white",
           "zerolinewidth": 2
          }
         }
        }
       }
      }
     },
     "metadata": {},
     "output_type": "display_data"
    }
   ],
   "source": [
    "SDRank.plotRadar('partition', '100M')"
   ]
  },
  {
   "cell_type": "code",
   "execution_count": null,
   "metadata": {},
   "outputs": [],
   "source": [
    "MDRankPareto.paretoAgg('100M', 'settings.yaml')"
   ]
  },
  {
   "cell_type": "code",
   "execution_count": null,
   "metadata": {},
   "outputs": [],
   "source": [
    "MDRankPareto.paretoQ('100M', 'settings.yaml')"
   ]
  },
  {
   "cell_type": "code",
   "execution_count": null,
   "metadata": {},
   "outputs": [],
   "source": [
    "MDRankPareto.plot('100M', 'settings.yaml')"
   ]
  },
  {
   "cell_type": "code",
   "execution_count": 2,
   "metadata": {},
   "outputs": [
    {
     "data": {
      "text/html": [
       "<div>\n",
       "<style scoped>\n",
       "    .dataframe tbody tr th:only-of-type {\n",
       "        vertical-align: middle;\n",
       "    }\n",
       "\n",
       "    .dataframe tbody tr th {\n",
       "        vertical-align: top;\n",
       "    }\n",
       "\n",
       "    .dataframe thead th {\n",
       "        text-align: right;\n",
       "    }\n",
       "</style>\n",
       "<table border=\"1\" class=\"dataframe\">\n",
       "  <thead>\n",
       "    <tr style=\"text-align: right;\">\n",
       "      <th></th>\n",
       "      <th>100M</th>\n",
       "    </tr>\n",
       "  </thead>\n",
       "  <tbody>\n",
       "    <tr>\n",
       "      <th>schemas</th>\n",
       "      <td>0.854545</td>\n",
       "    </tr>\n",
       "    <tr>\n",
       "      <th>partition</th>\n",
       "      <td>0.800000</td>\n",
       "    </tr>\n",
       "    <tr>\n",
       "      <th>storage</th>\n",
       "      <td>0.927273</td>\n",
       "    </tr>\n",
       "    <tr>\n",
       "      <th>paretoQ</th>\n",
       "      <td>0.818182</td>\n",
       "    </tr>\n",
       "    <tr>\n",
       "      <th>paretoAgg</th>\n",
       "      <td>0.927273</td>\n",
       "    </tr>\n",
       "  </tbody>\n",
       "</table>\n",
       "</div>"
      ],
      "text/plain": [
       "               100M\n",
       "schemas    0.854545\n",
       "partition  0.800000\n",
       "storage    0.927273\n",
       "paretoQ    0.818182\n",
       "paretoAgg  0.927273"
      ]
     },
     "execution_count": 2,
     "metadata": {},
     "output_type": "execute_result"
    }
   ],
   "source": [
    "conformance_set = ['schemas', 'partition','storage', 'paretoQ', 'paretoAgg']\n",
    "Ranker.conformance(conformance_set,'100M', 'settings.yaml', 5, 15)"
   ]
  },
  {
   "cell_type": "code",
   "execution_count": 7,
   "metadata": {},
   "outputs": [
    {
     "data": {
      "text/html": [
       "<div>\n",
       "<style scoped>\n",
       "    .dataframe tbody tr th:only-of-type {\n",
       "        vertical-align: middle;\n",
       "    }\n",
       "\n",
       "    .dataframe tbody tr th {\n",
       "        vertical-align: top;\n",
       "    }\n",
       "\n",
       "    .dataframe thead th {\n",
       "        text-align: right;\n",
       "    }\n",
       "</style>\n",
       "<table border=\"1\" class=\"dataframe\">\n",
       "  <thead>\n",
       "    <tr style=\"text-align: right;\">\n",
       "      <th></th>\n",
       "      <th>Kendall's Index</th>\n",
       "    </tr>\n",
       "  </thead>\n",
       "  <tbody>\n",
       "    <tr>\n",
       "      <th>schemas</th>\n",
       "      <td>0.464052</td>\n",
       "    </tr>\n",
       "    <tr>\n",
       "      <th>partition</th>\n",
       "      <td>0.477124</td>\n",
       "    </tr>\n",
       "    <tr>\n",
       "      <th>storage</th>\n",
       "      <td>0.522876</td>\n",
       "    </tr>\n",
       "    <tr>\n",
       "      <th>paretoQ</th>\n",
       "      <td>0.076923</td>\n",
       "    </tr>\n",
       "    <tr>\n",
       "      <th>paretoAgg</th>\n",
       "      <td>0.583333</td>\n",
       "    </tr>\n",
       "  </tbody>\n",
       "</table>\n",
       "</div>"
      ],
      "text/plain": [
       "           Kendall's Index\n",
       "schemas           0.464052\n",
       "partition         0.477124\n",
       "storage           0.522876\n",
       "paretoQ           0.076923\n",
       "paretoAgg         0.583333"
      ]
     },
     "execution_count": 7,
     "metadata": {},
     "output_type": "execute_result"
    }
   ],
   "source": [
    "coherence_set = ['schemas', 'partition', 'storage', 'paretoQ', 'paretoAgg']\n",
    "rank1 = '100M'\n",
    "rank2 = '250M'\n",
    "Ranker.coherence(coherence_set, rank1, rank2)"
   ]
  },
  {
   "cell_type": "code",
   "execution_count": null,
   "metadata": {},
   "outputs": [],
   "source": []
  }
 ],
 "metadata": {
  "interpreter": {
   "hash": "e41b15c1429a098af195db8ddc7e23165af5d7884fc53e33c8379c749ff89684"
  },
  "kernelspec": {
   "display_name": "Python 3.10.0 ('RDF_BenchRankingLib')",
   "language": "python",
   "name": "python3"
  },
  "language_info": {
   "codemirror_mode": {
    "name": "ipython",
    "version": 3
   },
   "file_extension": ".py",
   "mimetype": "text/x-python",
   "name": "python",
   "nbconvert_exporter": "python",
   "pygments_lexer": "ipython3",
   "version": "3.10.0"
  },
  "orig_nbformat": 4
 },
 "nbformat": 4,
 "nbformat_minor": 2
}
